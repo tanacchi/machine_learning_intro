{
 "cells": [
  {
   "cell_type": "code",
   "execution_count": null,
   "metadata": {},
   "outputs": [],
   "source": [
    "import os"
   ]
  },
  {
   "cell_type": "code",
   "execution_count": null,
   "metadata": {},
   "outputs": [],
   "source": [
    "image_root_dir = \"./data\"\n",
    "output_dirname = \"hand\"\n",
    "\n",
    "input_dirs = [os.path.join(image_root_dir, dirname) for dirname in os.listdir(image_root_dir) if dirname != output_dirname]\n",
    "class_names = os.listdir(input_dirs[0])\n",
    "output_dirs = {class_name : os.path.join(image_root_dir, output_dirname, class_name) for class_name in class_names}\n",
    "\n",
    "source_images = {class_name : [] for class_name in class_names}\n",
    "for image_dir in input_dirs:\n",
    "    for class_name in class_names:\n",
    "        path = os.path.join(image_dir, class_name)\n",
    "        source_images[class_name] += [os.path.join(path, image) for image in os.listdir(path)]\n",
    "     \n",
    "    \n",
    "[os.makedirs(output_dir) for output_dir in output_dirs.values()]"
   ]
  },
  {
   "cell_type": "code",
   "execution_count": null,
   "metadata": {},
   "outputs": [],
   "source": [
    "import random\n",
    "import string\n",
    "import cv2\n",
    "import numpy as np\n",
    "\n",
    "def gen_random_name(n):\n",
    "    randlst = [random.choice(string.ascii_letters + string.digits) for i in range(n)]\n",
    "    return ''.join(randlst)\n",
    "\n",
    "def gen_square_image(image):\n",
    "    tmp = image.copy()\n",
    "    height, width = image.shape[:2]\n",
    "    size, limit = max(height, width), min(height, width)\n",
    "    start = (size - limit) // 2\n",
    "    end   = (size + limit) // 2\n",
    "    new_image = cv2.resize(np.full((1, 1, 3), 255, dtype=np.uint8), (size, size))\n",
    "    if height > width:\n",
    "        new_image[:, start:end] = tmp\n",
    "    else:\n",
    "        new_image[start:end, :] = tmp\n",
    "    return new_image\n",
    "\n",
    "def save_image(image, class_name):\n",
    "    output_name = os.path.join(output_dirs[class_name], gen_random_name(8) + \".png\")\n",
    "    cv2.imwrite(output_name, image)"
   ]
  },
  {
   "cell_type": "code",
   "execution_count": null,
   "metadata": {},
   "outputs": [],
   "source": [
    "def translate_and_save_image(image_path, class_name):\n",
    "    image = cv2.imread(image_path)\n",
    "    image = gen_square_image(image)\n",
    "#     save_image(image, class_name)\n",
    "    center = (image.shape[0]//2, image.shape[1]//2)\n",
    "#     for deg in range(0, 360, 30):\n",
    "    for deg in [30]:\n",
    "        trans = cv2.getRotationMatrix2D(center, deg, 1.0)\n",
    "        rotated_image = cv2.warpAffine(image.copy(), trans, dsize=(640, 640), borderValue=(255, 255, 255))\n",
    "        save_image(rotated_image, class_name)\n",
    "#     for direction in [cv2.ROTATE_90_CLOCKWISE, cv2.ROTATE_90_COUNTERCLOCKWISE, cv2.ROTATE_180]:\n",
    "    for direction in [cv2.ROTATE_90_CLOCKWISE]:\n",
    "        rotated_image = cv2.rotate(image.copy(), direction)\n",
    "        save_image(rotated_image, class_name)\n"
   ]
  },
  {
   "cell_type": "code",
   "execution_count": null,
   "metadata": {},
   "outputs": [],
   "source": [
    "for class_name in class_names:\n",
    "    images = source_images[class_name]\n",
    "    for image in images:\n",
    "        translate_and_save_image(image, class_name)"
   ]
  },
  {
   "cell_type": "code",
   "execution_count": null,
   "metadata": {},
   "outputs": [],
   "source": []
  }
 ],
 "metadata": {
  "kernelspec": {
   "display_name": "Python 3",
   "language": "python",
   "name": "python3"
  },
  "language_info": {
   "codemirror_mode": {
    "name": "ipython",
    "version": 3
   },
   "file_extension": ".py",
   "mimetype": "text/x-python",
   "name": "python",
   "nbconvert_exporter": "python",
   "pygments_lexer": "ipython3",
   "version": "3.6.8"
  }
 },
 "nbformat": 4,
 "nbformat_minor": 2
}
