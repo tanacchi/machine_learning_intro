{
 "cells": [
  {
   "cell_type": "code",
   "execution_count": 1,
   "metadata": {},
   "outputs": [],
   "source": [
    "import gym\n",
    "import numpy as np\n",
    "import time"
   ]
  },
  {
   "cell_type": "code",
   "execution_count": 2,
   "metadata": {},
   "outputs": [],
   "source": [
    "import torch\n",
    "from torch import nn\n",
    "from torch.autograd import Variable\n",
    "from torch import optim\n",
    "from torch.nn import functional as F"
   ]
  },
  {
   "cell_type": "code",
   "execution_count": 3,
   "metadata": {},
   "outputs": [],
   "source": [
    "def discretize(min, max, num):\n",
    "    return np.linspace(min, max, num + 1)[1:-1]"
   ]
  },
  {
   "cell_type": "code",
   "execution_count": 4,
   "metadata": {},
   "outputs": [],
   "source": [
    "def digitize_state(observation, fineness):\n",
    "    cart_x, cart_v, pole_th, pole_v = observation\n",
    "    digitized_state = [\n",
    "        np.digitize(cart_x,  bins=discretize(-2.4, 2.4, fineness)),\n",
    "        np.digitize(cart_v,  bins=discretize(-3.0, 3.0, fineness)),\n",
    "        np.digitize(pole_th, bins=discretize(-0.5, 0.5, fineness)),\n",
    "        np.digitize(pole_v,  bins=discretize(-2.0, 2.0, fineness))\n",
    "    ]\n",
    "    return sum([x * (fineness**i) for i, x in enumerate(digitized_state)])"
   ]
  },
  {
   "cell_type": "code",
   "execution_count": 5,
   "metadata": {},
   "outputs": [],
   "source": [
    "def update_qtable(q_table, current_status, action, next_status, current_reward):\n",
    "    epsilon = 0.5\n",
    "    next_reward = np.max(q_table[next_status])\n",
    "    q_table[current_status, action] = (1 - epsilon) * q_table[current_status, action] + \\\n",
    "                                        epsilon * (current_reward + next_reward)\n",
    "    return q_table"
   ]
  },
  {
   "cell_type": "code",
   "execution_count": 6,
   "metadata": {},
   "outputs": [],
   "source": [
    "def calc_action(status, q_table):\n",
    "    return 0 if q_table[status][0] > q_table[status][1] else 1"
   ]
  },
  {
   "cell_type": "code",
   "execution_count": 7,
   "metadata": {},
   "outputs": [],
   "source": [
    "def calc_reward(observation, done, current_step, max_steps):\n",
    "    if done:\n",
    "        return 200 if current_step + 1 == max_steps else -200\n",
    "    else:\n",
    "        return 10 - sum([abs(observation[0]), abs(observation[1]), abs(observation[2]), abs(observation[3])])"
   ]
  },
  {
   "cell_type": "code",
   "execution_count": 8,
   "metadata": {},
   "outputs": [],
   "source": [
    "def gen_model(env_name):\n",
    "    env = gym.make(env_name)\n",
    "    \n",
    "    class QNetwork(nn.Module):\n",
    "        def __init__(self):\n",
    "            super(QNetwork, self).__init__()\n",
    "            self.fc1 = nn.Linear(env.observation_space.shape[0], 16)\n",
    "            self.fc2 = nn.Linear(16, env.action_space.n)\n",
    "            \n",
    "        def forward(self, x):\n",
    "            x = Variable(x)\n",
    "            x = F.relu(self.fc1(x))\n",
    "            x = self.fc2(x)\n",
    "            return x\n",
    "        \n",
    "    return QNetwork().eval()"
   ]
  },
  {
   "cell_type": "code",
   "execution_count": 12,
   "metadata": {
    "scrolled": false
   },
   "outputs": [],
   "source": [
    "episode_rewards = []\n",
    "\n",
    "def main():\n",
    "    FINENESS = 8\n",
    "    EPISODES  = 10\n",
    "    MAX_STEPS = 10\n",
    "      \n",
    "    env = gym.make('CartPole-v1')\n",
    "    q_table = np.random.rand(FINENESS**env.observation_space.shape[0], env.action_space.n)\n",
    "    model = gen_model('CartPole-v1')\n",
    "    criterion = nn.MSELoss()\n",
    "    optimizer = optim.Adam(model.parameters(), lr=0.01)\n",
    "    \n",
    "    for episode in range(EPISODES):\n",
    "        observation = env.reset()\n",
    "        episode_reward = 0\n",
    "        \n",
    "        for step in range(MAX_STEPS):\n",
    "            # do action     \n",
    "            input_tensor = torch.tensor(observation, dtype=torch.float)\n",
    "            y = model(input_tensor)\n",
    "            action = np.argmax(y.detach().numpy())         \n",
    "            observation, reward, done, info = env.step(action)\n",
    "            \n",
    "            # calc reward\n",
    "            reward = calc_reward(observation, done, step, MAX_STEPS)\n",
    "            episode_reward += reward\n",
    "            \n",
    "            # update model\n",
    "            \n",
    "            # render\n",
    "            if (episode + 1) % 100 == 0:\n",
    "                env.render()\n",
    "                time.sleep(0.01)\n",
    "            \n",
    "            if done:\n",
    "                break\n",
    "#         print(\"episode_reward: {}\".format(episode_reward))\n",
    "        episode_rewards.append(episode_reward)\n",
    "        \n",
    "    env.close()\n",
    "\n",
    "main()"
   ]
  },
  {
   "cell_type": "code",
   "execution_count": 13,
   "metadata": {},
   "outputs": [],
   "source": [
    "import matplotlib.pyplot as plt\n",
    "%matplotlib inline"
   ]
  },
  {
   "cell_type": "code",
   "execution_count": 14,
   "metadata": {},
   "outputs": [
    {
     "data": {
      "image/png": "[encoded data removed]",
      "text/plain": [
       "<Figure size 432x288 with 1 Axes>"
      ]
     },
     "metadata": {},
     "output_type": "display_data"
    }
   ],
   "source": [
    "x = np.arange(len(episode_rewards))\n",
    "y = np.array(episode_rewards)\n",
    "\n",
    "plt.plot(x, y)\n",
    "plt.show()"
   ]
  },
  {
   "cell_type": "code",
   "execution_count": null,
   "metadata": {},
   "outputs": [],
   "source": []
  }
 ],
 "metadata": {
  "kernelspec": {
   "display_name": "Python 3",
   "language": "python",
   "name": "python3"
  },
  "language_info": {
   "codemirror_mode": {
    "name": "ipython",
    "version": 3
   },
   "file_extension": ".py",
   "mimetype": "text/x-python",
   "name": "python",
   "nbconvert_exporter": "python",
   "pygments_lexer": "ipython3",
   "version": "3.6.8"
  }
 },
 "nbformat": 4,
 "nbformat_minor": 2
}
