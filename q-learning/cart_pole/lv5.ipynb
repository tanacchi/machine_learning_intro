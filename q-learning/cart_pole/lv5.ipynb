{
 "cells": [
  {
   "cell_type": "code",
   "execution_count": 1,
   "metadata": {},
   "outputs": [],
   "source": [
    "import gym\n",
    "import numpy as np\n",
    "import time"
   ]
  },
  {
   "cell_type": "code",
   "execution_count": 2,
   "metadata": {},
   "outputs": [],
   "source": [
    "def discretize(min, max, num):\n",
    "    return np.linspace(min, max, num + 1)[1:-1]"
   ]
  },
  {
   "cell_type": "code",
   "execution_count": 3,
   "metadata": {},
   "outputs": [],
   "source": [
    "def digitize_state(observation, fineness):\n",
    "    cart_x, cart_v, pole_th, pole_v = observation\n",
    "    digitized_state = [\n",
    "        np.digitize(cart_x,  bins=discretize(-2.4, 2.4, fineness)),\n",
    "        np.digitize(cart_v,  bins=discretize(-3.0, 3.0, fineness)),\n",
    "        np.digitize(pole_th, bins=discretize(-0.5, 0.5, fineness)),\n",
    "        np.digitize(pole_v,  bins=discretize(-2.0, 2.0, fineness))\n",
    "    ]\n",
    "    return sum([x * (fineness**i) for i, x in enumerate(digitized_state)])"
   ]
  },
  {
   "cell_type": "code",
   "execution_count": 4,
   "metadata": {},
   "outputs": [],
   "source": [
    "def update_qtable(q_table, current_status, action, next_status, current_reward):\n",
    "    alpha = 0.5\n",
    "    gamma = 0.99\n",
    "    next_reward = np.max(q_table[next_status])\n",
    "    q_table[current_status, action] = (1 - alpha) * q_table[current_status, action] + \\\n",
    "                                        alpha * (current_reward + gamma * next_reward)\n",
    "    return q_table"
   ]
  },
  {
   "cell_type": "code",
   "execution_count": 5,
   "metadata": {},
   "outputs": [],
   "source": [
    "def calc_action(status, q_table, episode):\n",
    "    epsilon = 1.0 / (episode + 1) * 0.5\n",
    "    if epsilon < np.random.uniform(0, 1):\n",
    "        return np.argmax(q_table[status])\n",
    "    else:\n",
    "        return np.random.choice([0, 1])"
   ]
  },
  {
   "cell_type": "code",
   "execution_count": 6,
   "metadata": {},
   "outputs": [],
   "source": [
    "def calc_reward(observation, done, current_step, max_steps):\n",
    "    if done:\n",
    "        return max_steps - np.abs(observation).sum()*20 if current_step + 1 >= max_steps * 0.95 else 0.5 * current_step - max_steps\n",
    "    else:\n",
    "        return 5.0 - np.abs(observation).sum()\n",
    "#         return 1"
   ]
  },
  {
   "cell_type": "code",
   "execution_count": 7,
   "metadata": {
    "scrolled": true
   },
   "outputs": [
    {
     "name": "stdout",
     "output_type": "stream",
     "text": [
      "Progress: 0 / 2000\n",
      "Progress: 500 / 2000\n",
      "Progress: 1000 / 2000\n",
      "Progress: 1500 / 2000\n",
      "[[ 0.1144451   0.8802204 ]\n",
      " [-0.58083262 -0.86087214]\n",
      " [-0.57027018  0.76763347]\n",
      " ...\n",
      " [-0.44585575 -0.33582284]\n",
      " [-0.46828421 -0.27534565]\n",
      " [-0.86625623 -0.66765385]]\n"
     ]
    }
   ],
   "source": [
    "episode_rewards = []\n",
    "\n",
    "def main():\n",
    "    FINENESS = 6\n",
    "    EPISODES  = 2000\n",
    "    MAX_STEPS = 200\n",
    "      \n",
    "    env = gym.make('CartPole-v1')\n",
    "    table_size = (FINENESS**env.observation_space.shape[0], env.action_space.n)\n",
    "    q_table = np.random.uniform(low=-1, high=1, size=table_size)\n",
    "    \n",
    "    for episode in range(EPISODES):\n",
    "        observation = env.reset()\n",
    "        episode_reward = 0\n",
    "        \n",
    "        for step in range(MAX_STEPS):\n",
    "            # do action\n",
    "            current_status = digitize_state(observation, FINENESS)\n",
    "            action = calc_action(current_status, q_table, episode)\n",
    "            observation, reward, done, info = env.step(action)\n",
    "            \n",
    "            # calc reward\n",
    "            reward = calc_reward(observation, done, step, MAX_STEPS)\n",
    "            episode_reward += reward\n",
    "\n",
    "            # update q_table\n",
    "            next_status = digitize_state(observation, FINENESS)\n",
    "            q_table = update_qtable(q_table, current_status, action, next_status, reward)\n",
    "            \n",
    "            # render\n",
    "            if (episode + 1) % 100 == 0:\n",
    "                env.render()\n",
    "                time.sleep(0.01)\n",
    "            \n",
    "            if done:\n",
    "                break\n",
    "        episode_rewards.append(episode_reward)\n",
    "        if episode % 500 == 0:\n",
    "            print(\"Progress: {} / {}\".format(episode, EPISODES))\n",
    "    \n",
    "    print(q_table)  \n",
    "    env.close()\n",
    "\n",
    "main()"
   ]
  },
  {
   "cell_type": "code",
   "execution_count": 9,
   "metadata": {},
   "outputs": [],
   "source": [
    "import matplotlib.pyplot as plt\n",
    "%matplotlib inline"
   ]
  },
  {
   "cell_type": "code",
   "execution_count": 10,
   "metadata": {
    "scrolled": true
   },
   "outputs": [
    {
     "data": {
      "image/png": "[encoded data removed]",
      "text/plain": [
       "<Figure size 432x288 with 1 Axes>"
      ]
     },
     "metadata": {},
     "output_type": "display_data"
    }
   ],
   "source": [
    "x = np.arange(len(episode_rewards))\n",
    "y = np.array(episode_rewards)\n",
    "\n",
    "plt.plot(x, y)\n",
    "plt.show()"
   ]
  },
  {
   "cell_type": "code",
   "execution_count": null,
   "metadata": {},
   "outputs": [],
   "source": []
  }
 ],
 "metadata": {
  "kernelspec": {
   "display_name": "Python 3",
   "language": "python",
   "name": "python3"
  },
  "language_info": {
   "codemirror_mode": {
    "name": "ipython",
    "version": 3
   },
   "file_extension": ".py",
   "mimetype": "text/x-python",
   "name": "python",
   "nbconvert_exporter": "python",
   "pygments_lexer": "ipython3",
   "version": "3.6.8"
  }
 },
 "nbformat": 4,
 "nbformat_minor": 2
}
