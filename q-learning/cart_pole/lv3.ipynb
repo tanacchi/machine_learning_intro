{
 "cells": [
  {
   "cell_type": "code",
   "execution_count": 8,
   "metadata": {},
   "outputs": [],
   "source": [
    "import gym\n",
    "import numpy as np\n",
    "import time"
   ]
  },
  {
   "cell_type": "code",
   "execution_count": 2,
   "metadata": {},
   "outputs": [],
   "source": [
    "def discretize(min, max, num):\n",
    "    return np.linspace(min, max, num + 1)[1:-1]"
   ]
  },
  {
   "cell_type": "code",
   "execution_count": 3,
   "metadata": {},
   "outputs": [
    {
     "name": "stdout",
     "output_type": "stream",
     "text": [
      "[0.1 0.2 0.3 0.4 0.5 0.6 0.7 0.8 0.9 1.  1.1 1.2 1.3 1.4 1.5 1.6 1.7 1.8\n",
      " 1.9 2.  2.1 2.2 2.3 2.4 2.5 2.6 2.7 2.8 2.9 3.  3.1 3.2 3.3 3.4 3.5 3.6\n",
      " 3.7 3.8 3.9 4.  4.1 4.2 4.3 4.4 4.5 4.6 4.7 4.8 4.9 5.  5.1 5.2 5.3 5.4\n",
      " 5.5 5.6 5.7 5.8 5.9 6.  6.1 6.2 6.3 6.4 6.5 6.6 6.7 6.8 6.9 7.  7.1 7.2\n",
      " 7.3 7.4 7.5 7.6 7.7 7.8 7.9 8.  8.1 8.2 8.3 8.4 8.5 8.6 8.7 8.8 8.9 9.\n",
      " 9.1 9.2 9.3 9.4 9.5 9.6 9.7 9.8 9.9]\n",
      "99\n"
     ]
    }
   ],
   "source": [
    "print(discretize(0, 10, 100))\n",
    "print(len(discretize(1, 10, 100)))"
   ]
  },
  {
   "cell_type": "code",
   "execution_count": 4,
   "metadata": {},
   "outputs": [
    {
     "name": "stdout",
     "output_type": "stream",
     "text": [
      "0: 0\n",
      "1: 10\n",
      "2: 20\n",
      "3: 30\n",
      "4: 40\n",
      "5: 50\n",
      "6: 60\n",
      "7: 70\n",
      "8: 80\n",
      "9: 90\n"
     ]
    }
   ],
   "source": [
    "for i in range(10):\n",
    "    ans = np.digitize(i, discretize(0, 10, 100))\n",
    "    print(\"{}: {}\".format(i, ans))"
   ]
  },
  {
   "cell_type": "code",
   "execution_count": 5,
   "metadata": {},
   "outputs": [],
   "source": [
    "FINENESS = 8"
   ]
  },
  {
   "cell_type": "code",
   "execution_count": 6,
   "metadata": {},
   "outputs": [],
   "source": [
    "def digitize_state(observation):\n",
    "    cart_x, cart_v, pole_th, pole_v = observation\n",
    "    digitized_state = [\n",
    "        np.digitize(cart_x,  bins=discretize(-2.4, 2.4, FINENESS)),\n",
    "        np.digitize(cart_v,  bins=discretize(-3.0, 3.0, FINENESS)),\n",
    "        np.digitize(pole_th, bins=discretize(-0.5, 0.5, FINENESS)),\n",
    "        np.digitize(pole_v,  bins=discretize(-2.0, 2.0, FINENESS))\n",
    "    ]\n",
    "    print(digitized_state)\n",
    "    return sum([x * (FINENESS**i) for i, x in enumerate(digitized_state)])"
   ]
  },
  {
   "cell_type": "code",
   "execution_count": null,
   "metadata": {},
   "outputs": [],
   "source": []
  },
  {
   "cell_type": "code",
   "execution_count": null,
   "metadata": {},
   "outputs": [],
   "source": []
  },
  {
   "cell_type": "code",
   "execution_count": null,
   "metadata": {},
   "outputs": [
    {
     "name": "stderr",
     "output_type": "stream",
     "text": [
      "/home/tanacchi/.local/lib/python3.6/site-packages/gym/logger.py:30: UserWarning: \u001b[33mWARN: You are calling 'step()' even though this environment has already returned done = True. You should always call 'reset()' once you receive 'done = True' -- any further steps are undefined behavior.\u001b[0m\n",
      "  warnings.warn(colorize('%s: %s'%('WARN', msg % args), 'yellow'))\n"
     ]
    }
   ],
   "source": [
    "def main():\n",
    "    EPISODES  = 10\n",
    "    MAX_STEPS = 10\n",
    "    \n",
    "    env = gym.make('CartPole-v1')\n",
    "    \n",
    "    for episode in range(EPISODES):\n",
    "        env.reset()\n",
    "        \n",
    "        for step in range(MAX_STEPS):\n",
    "            env.step(env.action_space.sample())\n",
    "            \n",
    "            env.render()\n",
    "            time.sleep(1)\n",
    "        \n",
    "    env.close()\n",
    "\n",
    "main()"
   ]
  },
  {
   "cell_type": "code",
   "execution_count": null,
   "metadata": {},
   "outputs": [],
   "source": []
  },
  {
   "cell_type": "code",
   "execution_count": null,
   "metadata": {},
   "outputs": [],
   "source": []
  }
 ],
 "metadata": {
  "kernelspec": {
   "display_name": "Python 3",
   "language": "python",
   "name": "python3"
  },
  "language_info": {
   "codemirror_mode": {
    "name": "ipython",
    "version": 3
   },
   "file_extension": ".py",
   "mimetype": "text/x-python",
   "name": "python",
   "nbconvert_exporter": "python",
   "pygments_lexer": "ipython3",
   "version": "3.6.8"
  }
 },
 "nbformat": 4,
 "nbformat_minor": 2
}
