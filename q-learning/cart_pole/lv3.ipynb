{
 "cells": [
  {
   "cell_type": "code",
   "execution_count": 1,
   "metadata": {},
   "outputs": [],
   "source": [
    "import gym\n",
    "import numpy as np\n",
    "import time"
   ]
  },
  {
   "cell_type": "code",
   "execution_count": 2,
   "metadata": {},
   "outputs": [],
   "source": [
    "def discretize(min, max, num):\n",
    "    return np.linspace(min, max, num + 1)[1:-1]"
   ]
  },
  {
   "cell_type": "code",
   "execution_count": 3,
   "metadata": {},
   "outputs": [],
   "source": [
    "def digitize_state(observation):\n",
    "    cart_x, cart_v, pole_th, pole_v = observation\n",
    "    digitized_state = [\n",
    "        np.digitize(cart_x,  bins=discretize(-2.4, 2.4, FINENESS)),\n",
    "        np.digitize(cart_v,  bins=discretize(-3.0, 3.0, FINENESS)),\n",
    "        np.digitize(pole_th, bins=discretize(-0.5, 0.5, FINENESS)),\n",
    "        np.digitize(pole_v,  bins=discretize(-2.0, 2.0, FINENESS))\n",
    "    ]\n",
    "    print(digitized_state)\n",
    "    return sum([x * (FINENESS**i) for i, x in enumerate(digitized_state)])"
   ]
  },
  {
   "cell_type": "code",
   "execution_count": 4,
   "metadata": {},
   "outputs": [],
   "source": [
    "def calc_action(status):\n",
    "    return 1 if status[2] > 0 else 0"
   ]
  },
  {
   "cell_type": "code",
   "execution_count": 5,
   "metadata": {},
   "outputs": [
    {
     "name": "stdout",
     "output_type": "stream",
     "text": [
      "reward: 51.0\n",
      "reward: 32.0\n",
      "reward: 35.0\n",
      "reward: 33.0\n",
      "reward: 38.0\n",
      "reward: 51.0\n",
      "reward: 40.0\n",
      "reward: 38.0\n",
      "reward: 56.0\n",
      "reward: 39.0\n"
     ]
    }
   ],
   "source": [
    "def main():\n",
    "    FINENESS = 8\n",
    "    EPISODES  = 10\n",
    "    MAX_STEPS = 200\n",
    "    \n",
    "    env = gym.make('CartPole-v1')\n",
    "    \n",
    "    for episode in range(EPISODES):\n",
    "        observation = env.reset()\n",
    "        episode_reward = 0\n",
    "        \n",
    "        for step in range(MAX_STEPS):\n",
    "            action = calc_action(observation)\n",
    "            observation, reward, done, info = env.step(action)\n",
    "            episode_reward += reward\n",
    "            \n",
    "            env.render()\n",
    "            time.sleep(0.01)\n",
    "            \n",
    "            if done:\n",
    "                break\n",
    "        print(\"reward: {}\".format(episode_reward))\n",
    "        \n",
    "    env.close()\n",
    "\n",
    "main()"
   ]
  }
 ],
 "metadata": {
  "kernelspec": {
   "display_name": "Python 3",
   "language": "python",
   "name": "python3"
  },
  "language_info": {
   "codemirror_mode": {
    "name": "ipython",
    "version": 3
   },
   "file_extension": ".py",
   "mimetype": "text/x-python",
   "name": "python",
   "nbconvert_exporter": "python",
   "pygments_lexer": "ipython3",
   "version": "3.6.8"
  }
 },
 "nbformat": 4,
 "nbformat_minor": 2
}
