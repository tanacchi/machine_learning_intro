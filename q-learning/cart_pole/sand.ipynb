{
 "cells": [
  {
   "cell_type": "markdown",
   "metadata": {},
   "source": [
    "* DQN in CartPole by PyTorch\n",
    "* See https://arxiv.org/abs/1312.5602"
   ]
  },
  {
   "cell_type": "code",
   "execution_count": 8,
   "metadata": {},
   "outputs": [],
   "source": [
    "import copy\n",
    "import time\n",
    "import numpy as np\n",
    "import matplotlib\n",
    "import matplotlib.pyplot as plt\n",
    "import torch\n",
    "import torch.nn as nn\n",
    "import torch.nn.functional as F\n",
    "import torch.optim as optim\n",
    "from torch.autograd import Variable\n",
    "import gym\n",
    "from gym import wrappers"
   ]
  },
  {
   "cell_type": "code",
   "execution_count": 9,
   "metadata": {},
   "outputs": [
    {
     "name": "stdout",
     "output_type": "stream",
     "text": [
      "observation space num:  4\n",
      "action space num:  2\n",
      "--------------------------------------------------\n",
      "[-0.01268163 -0.01059701  0.04271513  0.00401878] 0 1.0 [-0.01289357 -0.20630471  0.0427955   0.30986697] False\n",
      "[-0.01289357 -0.20630471  0.0427955   0.30986697] 0 1.0 [-0.01701966 -0.40200944  0.04899284  0.61573333] False\n",
      "[-0.01701966 -0.40200944  0.04899284  0.61573333] 1 1.0 [-0.02505985 -0.207605    0.06130751  0.3388747 ] False\n",
      "[-0.02505985 -0.207605    0.06130751  0.3388747 ] 0 1.0 [-0.02921195 -0.4035433   0.068085    0.65024311] False\n",
      "[-0.02921195 -0.4035433   0.068085    0.65024311] 0 1.0 [-0.03728282 -0.59954423  0.08108986  0.96356487] False\n",
      "[-0.03728282 -0.59954423  0.08108986  0.96356487] 0 1.0 [-0.0492737  -0.79565652  0.10036116  1.28058097] False\n",
      "[-0.0492737  -0.79565652  0.10036116  1.28058097] 0 1.0 [-0.06518683 -0.9919037   0.12597278  1.60292716] False\n",
      "[-0.06518683 -0.9919037   0.12597278  1.60292716] 1 1.0 [-0.08502491 -0.7984778   0.15803132  1.35202551] False\n",
      "[-0.08502491 -0.7984778   0.15803132  1.35202551] 1 1.0 [-0.10099446 -0.60565348  0.18507183  1.11266127] False\n",
      "[-0.10099446 -0.60565348  0.18507183  1.11266127] 0 1.0 [-0.11310753 -0.80265906  0.20732506  1.45722428] False\n",
      "[-0.11310753 -0.80265906  0.20732506  1.45722428] 0 1.0 [-0.12916072 -0.99963275  0.23646955  1.80687537] True\n"
     ]
    }
   ],
   "source": [
    "env = gym.make(\"CartPole-v0\")\n",
    "print(\"observation space num: \", env.observation_space.shape[0])\n",
    "print(\"action space num: \", env.action_space.n)\n",
    "print(\"-\"*50)\n",
    "pobs = env.reset()\n",
    "done = False\n",
    "while not done:\n",
    "    act = env.action_space.sample()\n",
    "    obs, reward, done, _ = env.step(act)\n",
    "    print(pobs, act, reward, obs, done)\n",
    "    pobs = obs"
   ]
  },
  {
   "cell_type": "code",
   "execution_count": 10,
   "metadata": {},
   "outputs": [
    {
     "name": "stdout",
     "output_type": "stream",
     "text": [
      "epoch\tepsilon\treward\ttotal_step\telapsed_time\n",
      "1000\t0.0999999999999992\t82.086\t84086\t115.2761709690094[sec]\n",
      "2000\t0.0999999999999992\t161.814\t247900\t221.5265383720398[sec]\n"
     ]
    }
   ],
   "source": [
    "# 環境\n",
    "MONITOR = False\n",
    "env = gym.make(\"CartPole-v0\")\n",
    "if MONITOR:\n",
    "    env = wrappers.Monitor(env, \"./result\", force=True)\n",
    "\n",
    "obs_num = env.observation_space.shape[0]\n",
    "acts_num = env.action_space.n\n",
    "HIDDEN_SIZE = 100\n",
    "\n",
    "class NN(nn.Module):\n",
    "    \n",
    "    def __init__(self):\n",
    "        \n",
    "        super(NN, self).__init__()\n",
    "        self.fc1 = nn.Linear(obs_num, HIDDEN_SIZE)\n",
    "        self.fc2 = nn.Linear(HIDDEN_SIZE, HIDDEN_SIZE)\n",
    "        self.fc3 = nn.Linear(HIDDEN_SIZE, HIDDEN_SIZE)\n",
    "        self.fc4 = nn.Linear(HIDDEN_SIZE, acts_num)\n",
    "    \n",
    "    def __call__(self, x):\n",
    "        \n",
    "        h = F.relu(self.fc1(x))\n",
    "        h = F.relu(self.fc2(h))\n",
    "        h = F.relu(self.fc3(h))\n",
    "        y = F.relu(self.fc4(h))\n",
    "        return y\n",
    "\n",
    "# 定数\n",
    "EPOCH_NUM = 2000 # エポック数\n",
    "STEP_MAX = 200 # 最高ステップ数\n",
    "MEMORY_SIZE = 200 # メモリサイズいくつで学習を開始するか\n",
    "BATCH_SIZE = 50 # バッチサイズ\n",
    "EPSILON = 1.0 # ε-greedy法\n",
    "EPSILON_DECREASE = 0.001 # εの減少値\n",
    "EPSILON_MIN = 0.1 # εの下限\n",
    "START_REDUCE_EPSILON = 200 # εを減少させるステップ数\n",
    "TRAIN_FREQ = 10 # Q関数の学習間隔\n",
    "UPDATE_TARGET_Q_FREQ = 20 # Q関数の更新間隔\n",
    "GAMMA = 0.97 # 割引率\n",
    "LOG_FREQ = 1000 # ログ出力の間隔\n",
    "\n",
    "# モデル\n",
    "Q = NN() # 近似Q関数\n",
    "Q_ast = copy.deepcopy(Q)\n",
    "optimizer = optim.RMSprop(Q.parameters(), lr=0.00015, alpha=0.95, eps=0.01)\n",
    "\n",
    "total_step = 0 # 総ステップ（行動）数\n",
    "memory = [] # メモリ\n",
    "total_rewards = [] # 累積報酬記録用リスト\n",
    "\n",
    "# 学習開始\n",
    "print(\"\\t\".join([\"epoch\", \"epsilon\", \"reward\", \"total_step\", \"elapsed_time\"]))\n",
    "start = time.time()\n",
    "for epoch in range(EPOCH_NUM):\n",
    "    \n",
    "    pobs = env.reset() # 環境初期化\n",
    "    step = 0 # ステップ数\n",
    "    done = False # ゲーム終了フラグ\n",
    "    total_reward = 0 # 累積報酬\n",
    "    \n",
    "    while not done and step < STEP_MAX:\n",
    "        if MONITOR:\n",
    "            env.render()\n",
    "        # 行動選択\n",
    "        pact = env.action_space.sample()\n",
    "        # ε-greedy法\n",
    "        if np.random.rand() > EPSILON:\n",
    "            # 最適な行動を予測\n",
    "            pobs_ = np.array(pobs, dtype=\"float32\").reshape((1, obs_num))\n",
    "            pobs_ = Variable(torch.from_numpy(pobs_))\n",
    "            pact = Q(pobs_)\n",
    "            maxs, indices = torch.max(pact.data, 1)\n",
    "            pact = indices.numpy()[0]\n",
    "            \n",
    "        # 行動\n",
    "        obs, reward, done, _ = env.step(pact)\n",
    "        if done:\n",
    "            reward = -1\n",
    "            \n",
    "        # メモリに蓄積\n",
    "        memory.append((pobs, pact, reward, obs, done)) # 状態、行動、報酬、行動後の状態、ゲーム終了フラグ\n",
    "        if len(memory) > MEMORY_SIZE: # メモリサイズを超えていれば消していく\n",
    "            memory.pop(0)\n",
    "            \n",
    "        # 学習\n",
    "        if len(memory) == MEMORY_SIZE: # メモリサイズ分溜まっていれば学習\n",
    "            # 経験リプレイ\n",
    "            if total_step % TRAIN_FREQ == 0:\n",
    "                memory_ = np.random.permutation(memory)\n",
    "                memory_idx = range(len(memory_))\n",
    "                for i in memory_idx[::BATCH_SIZE]:\n",
    "                    batch = np.array(memory_[i:i+BATCH_SIZE]) # 経験ミニバッチ\n",
    "                    pobss = np.array(batch[:,0].tolist(), dtype=\"float32\").reshape((BATCH_SIZE, obs_num))\n",
    "                    pacts = np.array(batch[:,1].tolist(), dtype=\"int32\")\n",
    "                    rewards = np.array(batch[:,2].tolist(), dtype=\"int32\")\n",
    "                    obss = np.array(batch[:,3].tolist(), dtype=\"float32\").reshape((BATCH_SIZE, obs_num))\n",
    "                    dones = np.array(batch[:,4].tolist(), dtype=\"bool\")\n",
    "                    # set y\n",
    "                    pobss_ = Variable(torch.from_numpy(pobss))\n",
    "                    q = Q(pobss_)\n",
    "                    obss_ = Variable(torch.from_numpy(obss))\n",
    "                    maxs, indices = torch.max(Q_ast(obss_).data, 1)\n",
    "                    maxq = maxs.numpy() # maxQ\n",
    "                    target = copy.deepcopy(q.data.numpy())\n",
    "                    for j in range(BATCH_SIZE):\n",
    "                        target[j, pacts[j]] = rewards[j]+GAMMA*maxq[j]*(not dones[j]) # 教師信号\n",
    "                    # Perform a gradient descent step\n",
    "                    optimizer.zero_grad()\n",
    "                    loss = nn.MSELoss()(q, Variable(torch.from_numpy(target)))\n",
    "                    loss.backward()\n",
    "                    optimizer.step()\n",
    "            # Q関数の更新\n",
    "            if total_step % UPDATE_TARGET_Q_FREQ == 0:\n",
    "                Q_ast = copy.deepcopy(Q)\n",
    "                \n",
    "        # εの減少\n",
    "        if EPSILON > EPSILON_MIN and total_step > START_REDUCE_EPSILON:\n",
    "            EPSILON -= EPSILON_DECREASE\n",
    "            \n",
    "        # 次の行動へ\n",
    "        total_reward += reward\n",
    "        step += 1\n",
    "        total_step += 1\n",
    "        pobs = obs\n",
    "        \n",
    "    total_rewards.append(total_reward) # 累積報酬を記録\n",
    "    \n",
    "    if (epoch+1) % LOG_FREQ == 0:\n",
    "        r = sum(total_rewards[((epoch+1)-LOG_FREQ):(epoch+1)])/LOG_FREQ # ログ出力間隔での平均累積報酬\n",
    "        elapsed_time = time.time()-start\n",
    "        print(\"\\t\".join(map(str,[epoch+1, EPSILON, r, total_step, str(elapsed_time)+\"[sec]\"]))) # ログ出力\n",
    "        start = time.time()\n",
    "        \n",
    "if MONITOR:\n",
    "    env.render(close=True)"
   ]
  },
  {
   "cell_type": "code",
   "execution_count": 5,
   "metadata": {},
   "outputs": [
    {
     "data": {
      "image/png": "[encoded data removed]",
      "text/plain": [
       "<Figure size 720x360 with 1 Axes>"
      ]
     },
     "metadata": {},
     "output_type": "display_data"
    }
   ],
   "source": [
    "plt.figure(figsize=(10,5))\n",
    "resize = (len(total_rewards)//10, 10)\n",
    "tmp = np.array(total_rewards, dtype=\"float32\").reshape(resize)\n",
    "tmp = np.average(tmp, axis=1)\n",
    "plt.plot(tmp)\n",
    "plt.show()"
   ]
  },
  {
   "cell_type": "code",
   "execution_count": null,
   "metadata": {},
   "outputs": [],
   "source": []
  }
 ],
 "metadata": {
  "kernelspec": {
   "display_name": "Python 3",
   "language": "python",
   "name": "python3"
  },
  "language_info": {
   "codemirror_mode": {
    "name": "ipython",
    "version": 3
   },
   "file_extension": ".py",
   "mimetype": "text/x-python",
   "name": "python",
   "nbconvert_exporter": "python",
   "pygments_lexer": "ipython3",
   "version": "3.6.8"
  }
 },
 "nbformat": 4,
 "nbformat_minor": 2
}
