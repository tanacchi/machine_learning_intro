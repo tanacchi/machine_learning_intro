{
 "cells": [
  {
   "cell_type": "code",
   "execution_count": 3,
   "metadata": {},
   "outputs": [],
   "source": [
    "import keras\n",
    "from keras.datasets import mnist\n",
    "from keras.models import Sequential\n",
    "from keras.layers import Dense, Dropout\n",
    "from keras.optimizers import RMSprop"
   ]
  },
  {
   "cell_type": "code",
   "execution_count": 13,
   "metadata": {},
   "outputs": [],
   "source": [
    "batch_size = 128\n",
    "num_classes = 10\n",
    "epochs = 20"
   ]
  },
  {
   "cell_type": "code",
   "execution_count": 5,
   "metadata": {},
   "outputs": [],
   "source": [
    "(x_train, y_train), (x_test, y_test) = mnist.load_data()"
   ]
  },
  {
   "cell_type": "code",
   "execution_count": 6,
   "metadata": {},
   "outputs": [
    {
     "name": "stdout",
     "output_type": "stream",
     "text": [
      "60000 train samples\n",
      "10000 test samples\n"
     ]
    }
   ],
   "source": [
    "x_train = x_train.reshape(60000, 784)\n",
    "x_test  = x_test.reshape(10000, 784)\n",
    "\n",
    "x_train = x_train.astype('float32') / 255\n",
    "x_test  = x_test.astype('float32')  / 255\n",
    "\n",
    "print(x_train.shape[0], 'train samples')\n",
    "print(x_test.shape[0],  'test samples')"
   ]
  },
  {
   "cell_type": "code",
   "execution_count": 7,
   "metadata": {},
   "outputs": [],
   "source": [
    "y_train = keras.utils.to_categorical(y_train, num_classes)\n",
    "y_test  = keras.utils.to_categorical(y_test,  num_classes)"
   ]
  },
  {
   "cell_type": "code",
   "execution_count": 11,
   "metadata": {},
   "outputs": [
    {
     "name": "stdout",
     "output_type": "stream",
     "text": [
      "Model: \"sequential_4\"\n",
      "_________________________________________________________________\n",
      "Layer (type)                 Output Shape              Param #   \n",
      "=================================================================\n",
      "dense_5 (Dense)              (None, 512)               401920    \n",
      "_________________________________________________________________\n",
      "dropout_4 (Dropout)          (None, 512)               0         \n",
      "_________________________________________________________________\n",
      "dense_6 (Dense)              (None, 512)               262656    \n",
      "_________________________________________________________________\n",
      "dropout_5 (Dropout)          (None, 512)               0         \n",
      "_________________________________________________________________\n",
      "dense_7 (Dense)              (None, 10)                5130      \n",
      "=================================================================\n",
      "Total params: 669,706\n",
      "Trainable params: 669,706\n",
      "Non-trainable params: 0\n",
      "_________________________________________________________________\n"
     ]
    }
   ],
   "source": [
    "model = Sequential()\n",
    "model.add(Dense(512, activation='relu', input_shape=(784,)))\n",
    "model.add(Dropout(0.2))\n",
    "model.add(Dense(512, activation='relu'))\n",
    "model.add(Dropout(0.2))\n",
    "model.add(Dense(num_classes, activation='softmax'))\n",
    "\n",
    "model.summary()\n",
    "\n",
    "model.compile(loss='categorical_crossentropy',\n",
    "              optimizer=RMSprop(),\n",
    "              metrics=['accuracy'])"
   ]
  },
  {
   "cell_type": "code",
   "execution_count": 14,
   "metadata": {},
   "outputs": [
    {
     "name": "stdout",
     "output_type": "stream",
     "text": [
      "Train on 60000 samples, validate on 10000 samples\n",
      "Epoch 1/20\n",
      "60000/60000 [==============================] - 9s 146us/step - loss: 0.2471 - accuracy: 0.9245 - val_loss: 0.1125 - val_accuracy: 0.9640\n",
      "Epoch 2/20\n",
      "60000/60000 [==============================] - 9s 143us/step - loss: 0.1033 - accuracy: 0.9685 - val_loss: 0.1048 - val_accuracy: 0.9683\n",
      "Epoch 3/20\n",
      "60000/60000 [==============================] - 9s 155us/step - loss: 0.0745 - accuracy: 0.9770 - val_loss: 0.0723 - val_accuracy: 0.9786\n",
      "Epoch 4/20\n",
      "60000/60000 [==============================] - 9s 152us/step - loss: 0.0599 - accuracy: 0.9820 - val_loss: 0.0752 - val_accuracy: 0.9802\n",
      "Epoch 5/20\n",
      "60000/60000 [==============================] - 9s 153us/step - loss: 0.0493 - accuracy: 0.9852 - val_loss: 0.0780 - val_accuracy: 0.9797\n",
      "Epoch 6/20\n",
      "60000/60000 [==============================] - 9s 154us/step - loss: 0.0440 - accuracy: 0.9868 - val_loss: 0.0714 - val_accuracy: 0.9814\n",
      "Epoch 7/20\n",
      "60000/60000 [==============================] - 9s 152us/step - loss: 0.0376 - accuracy: 0.9891 - val_loss: 0.0856 - val_accuracy: 0.9798\n",
      "Epoch 8/20\n",
      "60000/60000 [==============================] - 9s 157us/step - loss: 0.0332 - accuracy: 0.9904 - val_loss: 0.0910 - val_accuracy: 0.9807\n",
      "Epoch 9/20\n",
      "60000/60000 [==============================] - 9s 155us/step - loss: 0.0332 - accuracy: 0.9908 - val_loss: 0.0808 - val_accuracy: 0.9822\n",
      "Epoch 10/20\n",
      "60000/60000 [==============================] - 10s 160us/step - loss: 0.0272 - accuracy: 0.9919 - val_loss: 0.0808 - val_accuracy: 0.9836\n",
      "Epoch 11/20\n",
      "60000/60000 [==============================] - 9s 156us/step - loss: 0.0274 - accuracy: 0.9920 - val_loss: 0.0972 - val_accuracy: 0.9826\n",
      "Epoch 12/20\n",
      "60000/60000 [==============================] - 9s 148us/step - loss: 0.0249 - accuracy: 0.9926 - val_loss: 0.0992 - val_accuracy: 0.9844\n",
      "Epoch 13/20\n",
      "60000/60000 [==============================] - 9s 149us/step - loss: 0.0232 - accuracy: 0.9936 - val_loss: 0.1021 - val_accuracy: 0.9840\n",
      "Epoch 14/20\n",
      "60000/60000 [==============================] - 9s 150us/step - loss: 0.0225 - accuracy: 0.9939 - val_loss: 0.1160 - val_accuracy: 0.9813\n",
      "Epoch 15/20\n",
      "60000/60000 [==============================] - 9s 152us/step - loss: 0.0220 - accuracy: 0.9937 - val_loss: 0.1157 - val_accuracy: 0.9818\n",
      "Epoch 16/20\n",
      "60000/60000 [==============================] - 10s 163us/step - loss: 0.0219 - accuracy: 0.9940 - val_loss: 0.1101 - val_accuracy: 0.9829\n",
      "Epoch 17/20\n",
      "60000/60000 [==============================] - 11s 189us/step - loss: 0.0205 - accuracy: 0.9941 - val_loss: 0.1142 - val_accuracy: 0.9841\n",
      "Epoch 18/20\n",
      "60000/60000 [==============================] - 10s 173us/step - loss: 0.0206 - accuracy: 0.9945 - val_loss: 0.1226 - val_accuracy: 0.9828\n",
      "Epoch 19/20\n",
      "60000/60000 [==============================] - 9s 147us/step - loss: 0.0179 - accuracy: 0.9951 - val_loss: 0.1199 - val_accuracy: 0.9839\n",
      "Epoch 20/20\n",
      "60000/60000 [==============================] - 9s 153us/step - loss: 0.0200 - accuracy: 0.9950 - val_loss: 0.1283 - val_accuracy: 0.9845\n"
     ]
    }
   ],
   "source": [
    "history = model.fit(x_train, y_train, \n",
    "                    batch_size=batch_size,\n",
    "                    epochs=epochs,\n",
    "                    verbose=1,\n",
    "                    validation_data=(x_test, y_test))"
   ]
  },
  {
   "cell_type": "code",
   "execution_count": 15,
   "metadata": {},
   "outputs": [
    {
     "name": "stdout",
     "output_type": "stream",
     "text": [
      "<keras.callbacks.callbacks.History object at 0x7fc2fc20ff60>\n"
     ]
    }
   ],
   "source": [
    "print(history)"
   ]
  },
  {
   "cell_type": "code",
   "execution_count": 17,
   "metadata": {},
   "outputs": [
    {
     "name": "stdout",
     "output_type": "stream",
     "text": [
      "Test loss:  0.12832335383183047\n",
      "Test accuracy:  0.984499990940094\n"
     ]
    }
   ],
   "source": [
    "score = model.evaluate(x_test, y_test, verbose=0)\n",
    "print('Test loss: ', score[0])\n",
    "print('Test accuracy: ', score[1])"
   ]
  },
  {
   "cell_type": "code",
   "execution_count": null,
   "metadata": {},
   "outputs": [],
   "source": []
  }
 ],
 "metadata": {
  "kernelspec": {
   "display_name": "Python 3",
   "language": "python",
   "name": "python3"
  },
  "language_info": {
   "codemirror_mode": {
    "name": "ipython",
    "version": 3
   },
   "file_extension": ".py",
   "mimetype": "text/x-python",
   "name": "python",
   "nbconvert_exporter": "python",
   "pygments_lexer": "ipython3",
   "version": "3.6.8"
  }
 },
 "nbformat": 4,
 "nbformat_minor": 2
}
