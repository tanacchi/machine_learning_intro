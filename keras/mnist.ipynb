{
 "cells": [
  {
   "cell_type": "code",
   "execution_count": 1,
   "metadata": {},
   "outputs": [
    {
     "name": "stderr",
     "output_type": "stream",
     "text": [
      "Using TensorFlow backend.\n"
     ]
    }
   ],
   "source": [
    "from keras.datasets import mnist"
   ]
  },
  {
   "cell_type": "code",
   "execution_count": 3,
   "metadata": {},
   "outputs": [
    {
     "name": "stdout",
     "output_type": "stream",
     "text": [
      "Downloading data from https://s3.amazonaws.com/img-datasets/mnist.npz\n",
      "11493376/11490434 [==============================] - 15s 1us/step\n"
     ]
    }
   ],
   "source": [
    "(x_train, y_train), (x_test, y_test) = mnist.load_data()"
   ]
  },
  {
   "cell_type": "code",
   "execution_count": 5,
   "metadata": {},
   "outputs": [],
   "source": [
    "from keras.utils.np_utils import to_categorical\n",
    "\n",
    "x_train = x_train.reshape(60000, 784)\n",
    "x_test  = x_test.reshape(10000, 784)\n",
    "\n",
    "x_train = x_train.astype('float32') / 255\n",
    "x_test  = x_test.astype('float32') / 255\n",
    "\n",
    "y_train = to_categorical(y_train, 10)\n",
    "y_test  = to_categorical(y_test, 10)"
   ]
  },
  {
   "cell_type": "code",
   "execution_count": 6,
   "metadata": {},
   "outputs": [],
   "source": [
    "from keras.models import Sequential\n",
    "from keras.layers import Dense\n",
    "\n",
    "model = Sequential()\n",
    "model.add(Dense(64, activation='relu', input_dim=784))\n",
    "model.add(Dense(10, activation='softmax'))\n",
    "\n",
    "model.compile(optimizer='rmsprop',\n",
    "              loss='categorical_crossentropy',\n",
    "              metrics=['accuracy'])"
   ]
  },
  {
   "cell_type": "code",
   "execution_count": 7,
   "metadata": {},
   "outputs": [
    {
     "name": "stdout",
     "output_type": "stream",
     "text": [
      "Epoch 1/12\n",
      "60000/60000 [==============================] - 2s 31us/step - loss: 0.3651 - accuracy: 0.9002\n",
      "Epoch 2/12\n",
      "60000/60000 [==============================] - 2s 30us/step - loss: 0.1893 - accuracy: 0.9457\n",
      "Epoch 3/12\n",
      "60000/60000 [==============================] - 2s 33us/step - loss: 0.1423 - accuracy: 0.9590\n",
      "Epoch 4/12\n",
      "60000/60000 [==============================] - 2s 30us/step - loss: 0.1154 - accuracy: 0.9664\n",
      "Epoch 5/12\n",
      "60000/60000 [==============================] - 3s 43us/step - loss: 0.0972 - accuracy: 0.9712\n",
      "Epoch 6/12\n",
      "60000/60000 [==============================] - 2s 26us/step - loss: 0.0843 - accuracy: 0.9751\n",
      "Epoch 7/12\n",
      "60000/60000 [==============================] - 2s 28us/step - loss: 0.0743 - accuracy: 0.9778\n",
      "Epoch 8/12\n",
      "60000/60000 [==============================] - 2s 32us/step - loss: 0.0664 - accuracy: 0.9808\n",
      "Epoch 9/12\n",
      "60000/60000 [==============================] - 2s 33us/step - loss: 0.0597 - accuracy: 0.9826\n",
      "Epoch 10/12\n",
      "60000/60000 [==============================] - 2s 30us/step - loss: 0.0546 - accuracy: 0.9840\n",
      "Epoch 11/12\n",
      "60000/60000 [==============================] - 2s 30us/step - loss: 0.0499 - accuracy: 0.9853\n",
      "Epoch 12/12\n",
      "60000/60000 [==============================] - 2s 30us/step - loss: 0.0461 - accuracy: 0.9866\n"
     ]
    },
    {
     "data": {
      "text/plain": [
       "<keras.callbacks.callbacks.History at 0x7f3f0d39def0>"
      ]
     },
     "execution_count": 7,
     "metadata": {},
     "output_type": "execute_result"
    }
   ],
   "source": [
    "model.fit(x_train, y_train, batch_size=100, epochs=12, verbose=1)"
   ]
  },
  {
   "cell_type": "code",
   "execution_count": 9,
   "metadata": {},
   "outputs": [
    {
     "name": "stdout",
     "output_type": "stream",
     "text": [
      "10000/10000 [==============================] - 0s 37us/step\n",
      "[0.0947767688165186, 0.9739999771118164]\n"
     ]
    }
   ],
   "source": [
    "score = model.evaluate(x_test, y_test)\n",
    "print(score)"
   ]
  },
  {
   "cell_type": "code",
   "execution_count": null,
   "metadata": {},
   "outputs": [],
   "source": []
  }
 ],
 "metadata": {
  "kernelspec": {
   "display_name": "Python 3",
   "language": "python",
   "name": "python3"
  },
  "language_info": {
   "codemirror_mode": {
    "name": "ipython",
    "version": 3
   },
   "file_extension": ".py",
   "mimetype": "text/x-python",
   "name": "python",
   "nbconvert_exporter": "python",
   "pygments_lexer": "ipython3",
   "version": "3.6.8"
  }
 },
 "nbformat": 4,
 "nbformat_minor": 2
}
